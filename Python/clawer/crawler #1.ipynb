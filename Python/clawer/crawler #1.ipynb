{
 "cells": [
  {
   "cell_type": "code",
   "execution_count": null,
   "metadata": {
    "collapsed": true,
    "deletable": true,
    "editable": true
   },
   "outputs": [],
   "source": [
    "import requests"
   ]
  },
  {
   "cell_type": "code",
   "execution_count": null,
   "metadata": {
    "collapsed": true,
    "deletable": true,
    "editable": true
   },
   "outputs": [],
   "source": [
    "page = 1\n",
    "for page in range(1,221):\n",
    "    url =\"http://images.asmhentai.com/009/259320/\"+str(page)+\".jpg\"\n",
    "    #print(url)\n",
    "    try:\n",
    "        urllib.request.urlretrieve(url, str(page)+\".jpg\")\n",
    "        print(\"download\"+str(page))\n",
    "    except:\n",
    "        continue"
   ]
  },
  {
   "cell_type": "code",
   "execution_count": null,
   "metadata": {
    "collapsed": false,
    "deletable": true,
    "editable": true
   },
   "outputs": [],
   "source": [
    "headers = {'User-Agent': 'Mozilla/5.0 (Macintosh; Intel Mac OS X 10_10_1) AppleWebKit/537.36 (KHTML, like Gecko) Chrome/39.0.2171.95 Safari/537.36'}\n",
    "response = requests.get(\"https://asmhentai.com/gallery/259320/187/\", headers=headers)\n",
    "print(response.content)"
   ]
  },
  {
   "cell_type": "code",
   "execution_count": null,
   "metadata": {
    "collapsed": true,
    "deletable": true,
    "editable": true
   },
   "outputs": [],
   "source": [
    "import bs4\n",
    "soup = bs4.BeautifulSoup(response.content, 'html.parser')"
   ]
  },
  {
   "cell_type": "code",
   "execution_count": null,
   "metadata": {
    "collapsed": true,
    "deletable": true,
    "editable": true
   },
   "outputs": [],
   "source": [
    "print(soup.prettify())"
   ]
  },
  {
   "cell_type": "code",
   "execution_count": null,
   "metadata": {
    "collapsed": true,
    "deletable": true,
    "editable": true
   },
   "outputs": [],
   "source": [
    "urllib.request.urlretrieve(\"https://images.asmhentai.com/009/259320/187.jpg\", \"187.jpg\")"
   ]
  },
  {
   "cell_type": "code",
   "execution_count": null,
   "metadata": {
    "collapsed": false,
    "deletable": true,
    "editable": true
   },
   "outputs": [],
   "source": [
    "soup.find_all(class_=\"lazy no_image\")"
   ]
  },
  {
   "cell_type": "code",
   "execution_count": null,
   "metadata": {
    "collapsed": true,
    "deletable": true,
    "editable": true
   },
   "outputs": [],
   "source": [
    "r = requests.get(\"https://images.asmhentai.com/009/259320/187.jpg\",\n",
    "  stream=True, headers={'User-agent': 'Mozilla/5.0'})"
   ]
  },
  {
   "cell_type": "code",
   "execution_count": null,
   "metadata": {
    "collapsed": false,
    "deletable": true,
    "editable": true
   },
   "outputs": [],
   "source": [
    "r"
   ]
  },
  {
   "cell_type": "code",
   "execution_count": null,
   "metadata": {
    "collapsed": false,
    "deletable": true,
    "editable": true
   },
   "outputs": [],
   "source": [
    "print(r.content)"
   ]
  },
  {
   "cell_type": "code",
   "execution_count": null,
   "metadata": {
    "collapsed": true,
    "deletable": true,
    "editable": true
   },
   "outputs": [],
   "source": [
    "with open('picture_out.jpg', 'wb') as f:\n",
    "  f.write(r.content)"
   ]
  },
  {
   "cell_type": "code",
   "execution_count": null,
   "metadata": {
    "collapsed": false,
    "deletable": true,
    "editable": true
   },
   "outputs": [],
   "source": [
    "from time import sleep\n",
    "from random import random\n",
    "random()"
   ]
  },
  {
   "cell_type": "code",
   "execution_count": null,
   "metadata": {
    "collapsed": false,
    "deletable": true,
    "editable": true
   },
   "outputs": [],
   "source": [
    "from time import sleep\n",
    "from random import random\n",
    "import requests\n",
    "for page in range(1,221):\n",
    "    url =\"http://images.asmhentai.com/009/259320/\"+str(page)+\".jpg\"\n",
    "    #print(url)\n",
    "    try:\n",
    "        r = requests.get(\"https://images.asmhentai.com/009/259320/\"+str(page)+\".jpg\",stream=True, headers={'User-agent': 'Mozilla/5.0'})\n",
    "        print(\"download page \"+str(page))\n",
    "        with open(str(page)+'.jpg', 'wb') as f:\n",
    "          f.write(r.content)\n",
    "        sleep(random()+0.1)\n",
    "    except:\n",
    "        print(\"failed on page \"+str(page))\n",
    "        continue"
   ]
  },
  {
   "cell_type": "code",
   "execution_count": null,
   "metadata": {
    "collapsed": true,
    "deletable": true,
    "editable": true
   },
   "outputs": [],
   "source": [
    "import os"
   ]
  },
  {
   "cell_type": "code",
   "execution_count": null,
   "metadata": {
    "collapsed": true,
    "deletable": true,
    "editable": true
   },
   "outputs": [],
   "source": [
    "newpath = r'C:\\Users\\86116\\manga\\[サガッとる] 濡れて蕩けて交わりて 第1-9話 [英訳] [DL版]'\n",
    "if not os.path.exists(newpath):\n",
    "    os.makedirs(newpath)"
   ]
  },
  {
   "cell_type": "code",
   "execution_count": null,
   "metadata": {
    "collapsed": true,
    "deletable": true,
    "editable": true
   },
   "outputs": [],
   "source": [
    "os.chdir(r'C:\\Users\\86116\\manga\\[サガッとる] 濡れて蕩けて交わりて 第1-9話 [英訳] [DL版]')"
   ]
  },
  {
   "cell_type": "code",
   "execution_count": null,
   "metadata": {
    "collapsed": false,
    "deletable": true,
    "editable": true
   },
   "outputs": [],
   "source": [
    "from time import sleep\n",
    "from random import random\n",
    "import requests\n",
    "import os\n",
    "pages = 190\n",
    "mid = 268525\n",
    "os.chdir(r'C:\\Users\\86116\\manga\\[サガッとる] 濡れて蕩けて交わりて 第1-9話 [英訳] [DL版]')\n",
    "for page in range(1,pages+1):\n",
    "    url =\"https://images.asmhentai.com/009/\"+str(mid)+\"/\"+str(page)+\".jpg\"\n",
    "    #print(url)\n",
    "    try:\n",
    "        r = requests.get(url,stream=True, headers={'User-agent': 'Mozilla/5.0'})\n",
    "        print(\"download page \"+str(page))\n",
    "        with open(str(page)+'.jpg', 'wb') as f:\n",
    "          f.write(r.content)\n",
    "        sleep(random()*0.3+0.1)\n",
    "    except:\n",
    "        print(\"failed on page \"+str(page))\n",
    "        continue"
   ]
  },
  {
   "cell_type": "code",
   "execution_count": null,
   "metadata": {
    "collapsed": false,
    "deletable": true,
    "editable": true
   },
   "outputs": [],
   "source": [
    "pages = 190\n",
    "page = 1\n",
    "mid = 268525\n",
    "url =\"https://images.asmhentai.com/009/\"+str(mid)+\"/\"+str(page)+\".jpg\"\n",
    "print(url)"
   ]
  },
  {
   "cell_type": "code",
   "execution_count": null,
   "metadata": {
    "collapsed": false,
    "deletable": true,
    "editable": true
   },
   "outputs": [],
   "source": [
    "import requests\n",
    "url = \"https://asmhentai.com/g/218071/\"\n",
    "headers = {'User-Agent': 'Mozilla/5.0 (Macintosh; Intel Mac OS X 10_10_1) AppleWebKit/537.36 (KHTML, like Gecko) Chrome/39.0.2171.95 Safari/537.36'}\n",
    "response = requests.get(url, headers=headers)\n",
    "print(response.content)"
   ]
  },
  {
   "cell_type": "code",
   "execution_count": null,
   "metadata": {
    "collapsed": false,
    "deletable": true,
    "editable": true
   },
   "outputs": [],
   "source": [
    "import bs4\n",
    "soup = bs4.BeautifulSoup(response.content, 'html.parser')\n",
    "print(soup.prettify())"
   ]
  },
  {
   "cell_type": "code",
   "execution_count": null,
   "metadata": {
    "collapsed": false,
    "deletable": true,
    "editable": true
   },
   "outputs": [],
   "source": [
    "soup.find_all('h2')"
   ]
  },
  {
   "cell_type": "code",
   "execution_count": null,
   "metadata": {
    "collapsed": false,
    "deletable": true,
    "editable": true
   },
   "outputs": [],
   "source": [
    "title = soup.h2.string\n",
    "print(title)"
   ]
  },
  {
   "cell_type": "code",
   "execution_count": null,
   "metadata": {
    "collapsed": false,
    "deletable": true,
    "editable": true
   },
   "outputs": [],
   "source": [
    "pages = int(soup.find(\"div\", {\"class\": \"pages\"}).find('h3').string[7:])\n"
   ]
  },
  {
   "cell_type": "code",
   "execution_count": null,
   "metadata": {
    "collapsed": false,
    "deletable": true,
    "editable": true
   },
   "outputs": [],
   "source": [
    "mid = url[24:-1]\n",
    "url"
   ]
  },
  {
   "cell_type": "code",
   "execution_count": null,
   "metadata": {
    "collapsed": false,
    "deletable": true,
    "editable": true
   },
   "outputs": [],
   "source": [
    "url = \"http:\"+soup.find(\"div\", {\"class\": \"cover\"}).find('img')['src'][:-9]\n",
    "print(url)"
   ]
  },
  {
   "cell_type": "code",
   "execution_count": null,
   "metadata": {
    "collapsed": false,
    "deletable": true,
    "editable": true
   },
   "outputs": [
    {
     "name": "stdout",
     "output_type": "stream",
     "text": [
      "(C96) [郁村 (郁)] 色を逐う http://images.asmhentai.com/009/270813/ 26\n",
      "download page 1\n",
      "download page 2\n",
      "download page 3\n",
      "download page 4\n",
      "download page 5\n",
      "download page 6\n",
      "download page 7\n",
      "download page 8\n",
      "download page 9\n",
      "download page 10\n",
      "download page 11\n",
      "download page 12\n",
      "download page 13\n",
      "download page 14\n",
      "download page 15\n",
      "download page 16\n",
      "download page 17\n",
      "download page 18\n",
      "download page 19\n",
      "download page 20\n",
      "download page 21\n",
      "download page 22\n",
      "download page 23\n",
      "download page 24\n"
     ]
    }
   ],
   "source": [
    "from time import sleep\n",
    "from random import random\n",
    "import requests\n",
    "import os\n",
    "import bs4\n",
    "src = \"https://asmhentai.com/g/237589/ \"\n",
    "headers = {'User-Agent': 'Mozilla/5.0 (Macintosh; Intel Mac OS X 10_10_1) AppleWebKit/537.36 (KHTML, like Gecko) Chrome/39.0.2171.95 Safari/537.36'}\n",
    "response = requests.get(src, headers=headers)\n",
    "soup = bs4.BeautifulSoup(response.content, 'html.parser')\n",
    "title = soup.h2.string\n",
    "if title is None:\n",
    "    title = \"Unknown\"\n",
    "root = \"http:\"+soup.find(\"div\", {\"class\": \"cover\"}).find('img')['src'][:-9]\n",
    "pages = int(soup.find(\"div\", {\"class\": \"pages\"}).find('h3').string[7:])\n",
    "print(title,root,pages)\n",
    "newpath = 'M:\\\\manga\\\\'+title[:18]\n",
    "if not os.path.exists(newpath):\n",
    "    os.makedirs(newpath)\n",
    "os.chdir(newpath)\n",
    "for page in range(1,pages+1):\n",
    "    url = root+str(page)+\".jpg\"\n",
    "    #print(url)\n",
    "    try:\n",
    "        r = requests.get(url,stream=True, headers={'User-agent': 'Mozilla/5.0'})\n",
    "        print(\"download page \"+str(page))\n",
    "        with open(str(page)+'.jpg', 'wb') as f:\n",
    "          f.write(r.content)\n",
    "        sleep(random()*0.1)\n",
    "    except:\n",
    "        print(\"failed on page \"+str(page))\n",
    "        continue"
   ]
  },
  {
   "cell_type": "code",
   "execution_count": null,
   "metadata": {
    "collapsed": false,
    "deletable": true,
    "editable": true
   },
   "outputs": [],
   "source": [
    "mid"
   ]
  },
  {
   "cell_type": "code",
   "execution_count": null,
   "metadata": {
    "collapsed": false,
    "deletable": true,
    "editable": true
   },
   "outputs": [],
   "source": [
    "url"
   ]
  },
  {
   "cell_type": "code",
   "execution_count": null,
   "metadata": {
    "collapsed": false,
    "deletable": true,
    "editable": true
   },
   "outputs": [],
   "source": [
    "title"
   ]
  },
  {
   "cell_type": "code",
   "execution_count": null,
   "metadata": {
    "collapsed": false,
    "deletable": true,
    "editable": true
   },
   "outputs": [],
   "source": []
  },
  {
   "cell_type": "code",
   "execution_count": null,
   "metadata": {
    "collapsed": true,
    "deletable": true,
    "editable": true
   },
   "outputs": [],
   "source": []
  }
 ],
 "metadata": {
  "kernelspec": {
   "display_name": "Python 3",
   "language": "python",
   "name": "python3"
  },
  "language_info": {
   "codemirror_mode": {
    "name": "ipython",
    "version": 3
   },
   "file_extension": ".py",
   "mimetype": "text/x-python",
   "name": "python",
   "nbconvert_exporter": "python",
   "pygments_lexer": "ipython3",
   "version": "3.5.1"
  }
 },
 "nbformat": 4,
 "nbformat_minor": 2
}
